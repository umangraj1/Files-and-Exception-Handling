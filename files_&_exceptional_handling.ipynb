{
  "cells": [
    {
      "cell_type": "markdown",
      "id": "698a5c0a-f28a-4ea1-a13b-148539c8ad1d",
      "metadata": {
        "id": "698a5c0a-f28a-4ea1-a13b-148539c8ad1d"
      },
      "source": [
        "#Theory"
      ]
    },
    {
      "cell_type": "markdown",
      "id": "91223eda-b1e5-4875-9606-6932e5c267b4",
      "metadata": {
        "id": "91223eda-b1e5-4875-9606-6932e5c267b4"
      },
      "source": [
        "<h2 style=\"font-size:20px;\">1) What is the difference between interpreted and compiled languages?</h2>"
      ]
    },
    {
      "cell_type": "markdown",
      "id": "86f6e52a-7c3a-4b35-9662-67a2fc62ece8",
      "metadata": {
        "id": "86f6e52a-7c3a-4b35-9662-67a2fc62ece8"
      },
      "source": [
        "• Interpreted language is a type of programming language for which most of its\n",
        "implementation execute instructions directly and freely, without previously compiling a\n",
        "program into machine-language instructions.\n",
        "\n",
        "• Compiled language is a programming\n",
        "language whose implementations are typically compilers which converts the source code\n",
        "to machine code."
      ]
    },
    {
      "cell_type": "markdown",
      "id": "957a8699-0a2a-4945-a0c6-d888580ecef9",
      "metadata": {
        "id": "957a8699-0a2a-4945-a0c6-d888580ecef9"
      },
      "source": [
        "<h2 style=\"font-size:20px;\">2) What is exception handling in Python?</h2>"
      ]
    },
    {
      "cell_type": "markdown",
      "id": "64b5aaa3-374c-40a0-8128-8ad0ad3ffa32",
      "metadata": {
        "id": "64b5aaa3-374c-40a0-8128-8ad0ad3ffa32"
      },
      "source": [
        "* Exception handling in Python is a mechanism to gracefully handle errors or unexpected situations that occur during the execution of a program, without crashing the program."
      ]
    },
    {
      "cell_type": "markdown",
      "id": "5bdded7c-a80e-46fb-a71f-f96ee65d1662",
      "metadata": {
        "id": "5bdded7c-a80e-46fb-a71f-f96ee65d1662"
      },
      "source": [
        "<h2 style=\"font-size:20px;\">3) What is the purpose of the finally block in exception handling?</h2>"
      ]
    },
    {
      "cell_type": "markdown",
      "id": "ce7c247c-fb31-44a9-93ea-e51c48cc057a",
      "metadata": {
        "id": "ce7c247c-fb31-44a9-93ea-e51c48cc057a"
      },
      "source": [
        "* The purpose of the finally block in exception handling is to write code that must be\n",
        "executed regardless of whether the try block generates an error."
      ]
    },
    {
      "cell_type": "markdown",
      "id": "ff4e8215-8031-4ab6-a978-bc72853485ea",
      "metadata": {
        "id": "ff4e8215-8031-4ab6-a978-bc72853485ea"
      },
      "source": [
        "<h2 style=\"font-size:20px;\">4) What is logging in Python?</h2>"
      ]
    },
    {
      "cell_type": "markdown",
      "id": "ee82f41d-77d9-421d-9f6f-2432c382587c",
      "metadata": {
        "id": "ee82f41d-77d9-421d-9f6f-2432c382587c"
      },
      "source": [
        "* Logging in Python is a built-in module used to track events that happen while your program runs. It helps you record messages, errors, or other information to understand program behavior, debug issues, and maintain applications efficiently."
      ]
    },
    {
      "cell_type": "markdown",
      "id": "fd27a378-4a41-4c3f-89af-5ece7523103c",
      "metadata": {
        "id": "fd27a378-4a41-4c3f-89af-5ece7523103c"
      },
      "source": [
        "<h2 style=\"font-size:20px;\">5) What is the significance of the __del__ method in Python?</h2>"
      ]
    },
    {
      "cell_type": "markdown",
      "id": "8ad27e1a-6636-4937-8f67-c34114f9c26c",
      "metadata": {
        "id": "8ad27e1a-6636-4937-8f67-c34114f9c26c"
      },
      "source": [
        "* The __del__ method in Python is a destructor. It is called automatically when an object is about to be destroyed, i.e., when it is no longer in use or goes out of scope. The main purpose of __del__ is to perform cleanup actions like releasing memory, closing files, or disconnecting from a database."
      ]
    },
    {
      "cell_type": "markdown",
      "id": "9708c4d2-fbe5-47bf-a68e-2299a8117795",
      "metadata": {
        "id": "9708c4d2-fbe5-47bf-a68e-2299a8117795"
      },
      "source": [
        "<h2 style=\"font-size:20px;\">6) What is the difference between import and from ... import in Python?\n",
        "</h2>"
      ]
    },
    {
      "cell_type": "markdown",
      "id": "e571feeb-ae2d-4a2c-aaf8-7f300507002c",
      "metadata": {
        "id": "e571feeb-ae2d-4a2c-aaf8-7f300507002c"
      },
      "source": [
        "* The import statement is used to import a module or a module's attribute into the current\n",
        "namespace whereas from ...import statement is used to import specific attributes from a\n",
        "module into the current namespace."
      ]
    },
    {
      "cell_type": "markdown",
      "id": "335a432f-6024-4813-a432-f01ebb4edb20",
      "metadata": {
        "id": "335a432f-6024-4813-a432-f01ebb4edb20"
      },
      "source": [
        "<h2 style=\"font-size:20px;\">7) How can you handle multiple exceptions in Python?</h2>"
      ]
    },
    {
      "cell_type": "markdown",
      "id": "ab3faf84-ae97-4ae0-b6e9-d977604cde84",
      "metadata": {
        "id": "ab3faf84-ae97-4ae0-b6e9-d977604cde84"
      },
      "source": [
        "In Python, you can handle multiple exceptions by using:\n",
        "\n",
        "* Multiple except blocks\n",
        "\n",
        "* A single except block handling multiple exception types."
      ]
    },
    {
      "cell_type": "code",
      "execution_count": 1,
      "id": "bce0031b-2cd9-4434-9363-332667464ca7",
      "metadata": {
        "id": "bce0031b-2cd9-4434-9363-332667464ca7",
        "colab": {
          "base_uri": "https://localhost:8080/"
        },
        "outputId": "c0abbda9-f7af-4ded-ef5e-223d29d371d2"
      },
      "outputs": [
        {
          "name": "stdout",
          "output_type": "stream",
          "text": [
            "Enter a number: 5\n"
          ]
        }
      ],
      "source": [
        "try:\n",
        "    x = int(input(\"Enter a number: \"))\n",
        "    y = 10 / x\n",
        "except ValueError:\n",
        "    print(\"Invalid input! Please enter a number.\")\n",
        "except ZeroDivisionError:\n",
        "    print(\"Cannot divide by zero.\")"
      ]
    },
    {
      "cell_type": "markdown",
      "id": "c146b79c-e321-4a98-aba7-7561658caf81",
      "metadata": {
        "id": "c146b79c-e321-4a98-aba7-7561658caf81"
      },
      "source": [
        "<h2 style=\"font-size:20px;\">8) What is the purpose of the with statement when handling files in Python?</h2>"
      ]
    },
    {
      "cell_type": "markdown",
      "id": "3338f282-103a-49c7-85ef-73d6d04c68a9",
      "metadata": {
        "id": "3338f282-103a-49c7-85ef-73d6d04c68a9"
      },
      "source": [
        "* The with statement in Python is used for simpler, cleaner, and safer handling of resources like files. It is often used with file operations to ensure that the file is automatically closed after the block of code is executed — even if an error occurs during execution."
      ]
    },
    {
      "cell_type": "markdown",
      "id": "c6abe145-b03b-4d67-8c38-221c8933fd4e",
      "metadata": {
        "id": "c6abe145-b03b-4d67-8c38-221c8933fd4e"
      },
      "source": [
        "<h2 style=\"font-size:20px;\">9) What is the difference between multithreading and multiprocessing?</h2>"
      ]
    },
    {
      "cell_type": "markdown",
      "id": "e4db1648-c945-4e3d-82e2-e5919e2c3214",
      "metadata": {
        "id": "e4db1648-c945-4e3d-82e2-e5919e2c3214"
      },
      "source": [
        "* Multithreading - It is a technique where multiple threads are generated by a single\n",
        "process at the same time and implements concurrency.\n",
        "* Multiprocessing - It is a\n",
        "technique where multiple processes run across multiple cores at the same time and\n",
        "implements parallelism."
      ]
    },
    {
      "cell_type": "markdown",
      "id": "0a37f087-0d3a-4aaf-82f8-fc13f88bda90",
      "metadata": {
        "id": "0a37f087-0d3a-4aaf-82f8-fc13f88bda90"
      },
      "source": [
        "<h2 style=\"font-size:20px;\">10) What are the advantages of using logging in a program?</h2>"
      ]
    },
    {
      "cell_type": "markdown",
      "id": "be0a7a3e-150a-47a8-adcc-e553b6c50a55",
      "metadata": {
        "id": "be0a7a3e-150a-47a8-adcc-e553b6c50a55"
      },
      "source": [
        "* Logging is a powerful tool for monitoring and debugging applications. Instead of using print() statements, logging provides a structured and flexible way to track events, detect problems, and maintain code efficiently."
      ]
    },
    {
      "cell_type": "markdown",
      "id": "7c31ca6f-9b2f-43ae-a9f9-02af7fd4aabc",
      "metadata": {
        "id": "7c31ca6f-9b2f-43ae-a9f9-02af7fd4aabc"
      },
      "source": [
        "<h2 style=\"font-size:20px;\">11) What is memory management in Python?</h2>"
      ]
    },
    {
      "cell_type": "markdown",
      "id": "97e6ef4b-cd27-4792-9aa5-8d760d877996",
      "metadata": {
        "id": "97e6ef4b-cd27-4792-9aa5-8d760d877996"
      },
      "source": [
        "* Memory management in python is the process of allocating and dealing with memory so\n",
        "that the program can run efficiently. One advantage to python, compared to other\n",
        "programming languages, is that it can perform memory management tasks\n",
        "automatically."
      ]
    },
    {
      "cell_type": "markdown",
      "id": "a46d24c6-5d12-4052-ae84-e855ea166d26",
      "metadata": {
        "id": "a46d24c6-5d12-4052-ae84-e855ea166d26"
      },
      "source": [
        "<h2 style=\"font-size:20px;\">12) What are the basic steps involved in exception handling in Python?</h2>"
      ]
    },
    {
      "cell_type": "markdown",
      "id": "231d1499-5607-44e0-971a-6579d2c11f3a",
      "metadata": {
        "id": "231d1499-5607-44e0-971a-6579d2c11f3a"
      },
      "source": [
        "The basics steps involved in exception handling in python are:\n",
        "\n",
        "* Use try and except block : To handle exceptions, we must utilise the try and except\n",
        "blocks. Define dangerous code that can throw an exception inside the try block and\n",
        "related handling code inside the except block.\n",
        "\n",
        "* Using try with finally : The finally block in python is used in conjucation with the try block\n",
        "statement. The finally block is used to write code that must be excecuted regardless of\n",
        "whether the try block generates an error.\n",
        "\n",
        "* Use try with else : Use the else statement in conjucation with try block. If want to run a\n",
        "specific code only if an exception is not produced."
      ]
    },
    {
      "cell_type": "code",
      "execution_count": 2,
      "id": "5867d33a-8b48-4df0-9102-c66db80f449b",
      "metadata": {
        "id": "5867d33a-8b48-4df0-9102-c66db80f449b",
        "colab": {
          "base_uri": "https://localhost:8080/"
        },
        "outputId": "d934c7dd-125c-4342-fc56-f60ea5492e6a"
      },
      "outputs": [
        {
          "output_type": "stream",
          "name": "stdout",
          "text": [
            "file is not present in the OS\n",
            "exec comp\n"
          ]
        }
      ],
      "source": [
        "#Example:\n",
        "try:\n",
        "    with open(\"data.txt\",\"r\") as file:\n",
        "        content = file.read()\n",
        "except FileNotFoundError:\n",
        "    print(\"file is not present in the OS\")\n",
        "else:\n",
        "    print(content)\n",
        "finally:\n",
        "    print(\"exec comp\")"
      ]
    },
    {
      "cell_type": "markdown",
      "id": "50ca3219-4641-43d6-ab90-5d9c3b70c7ad",
      "metadata": {
        "id": "50ca3219-4641-43d6-ab90-5d9c3b70c7ad"
      },
      "source": [
        "<h2 style=\"font-size:20px;\">13) Why is memory management important in Python?</h2>"
      ]
    },
    {
      "cell_type": "markdown",
      "id": "64be98fa-30e7-46df-b471-65bb50690491",
      "metadata": {
        "id": "64be98fa-30e7-46df-b471-65bb50690491"
      },
      "source": [
        "* Memory management is crucial in Python (or any programming language) because it ensures that your program uses system memory efficiently, avoids memory leaks, and runs smoothly and reliably, especially in large or long-running applications."
      ]
    },
    {
      "cell_type": "markdown",
      "id": "f5897197-6372-44c5-83aa-36b3e241d842",
      "metadata": {
        "id": "f5897197-6372-44c5-83aa-36b3e241d842"
      },
      "source": [
        "<h2 style=\"font-size:20px;\">14) What is the role of try and except in exception handling?</h2>"
      ]
    },
    {
      "cell_type": "markdown",
      "id": "ce0bf60e-1e48-46e5-86b8-72c5628d1aa4",
      "metadata": {
        "id": "ce0bf60e-1e48-46e5-86b8-72c5628d1aa4"
      },
      "source": [
        "* The role of try and except in exception handling is to allow to catch and handle errors\n",
        "gracefully without crashing the program. The try block contains code that might raise an\n",
        "exception and the except block catches and handles the exception if one occurs."
      ]
    },
    {
      "cell_type": "markdown",
      "id": "0f90f82f-e206-498d-9af2-b661e37d148c",
      "metadata": {
        "id": "0f90f82f-e206-498d-9af2-b661e37d148c"
      },
      "source": [
        "<h2 style=\"font-size:20px;\">15) How does Python's garbage collection system work?</h2>"
      ]
    },
    {
      "cell_type": "markdown",
      "id": "76f32912-2b53-4100-a063-1e77d08eb772",
      "metadata": {
        "id": "76f32912-2b53-4100-a063-1e77d08eb772"
      },
      "source": [
        "* Python's garbage collection system work by automatically cleans up any unused objects\n",
        "based on reference counting and object allocation and deallocation. This also helps\n",
        "periodically clear up memory space to help a program run more smoothly."
      ]
    },
    {
      "cell_type": "markdown",
      "id": "d62eb0df-d5cb-475e-8a3a-550ec2f09d3d",
      "metadata": {
        "id": "d62eb0df-d5cb-475e-8a3a-550ec2f09d3d"
      },
      "source": [
        "<h2 style=\"font-size:20px;\">16) What is the purpose of the else block in exception handling?</h2>"
      ]
    },
    {
      "cell_type": "markdown",
      "id": "a7457ffb-a819-4d17-b96f-a830997d5e06",
      "metadata": {
        "id": "a7457ffb-a819-4d17-b96f-a830997d5e06"
      },
      "source": [
        "* The purpose of the else block in exception handling is to help when the code didn't enter\n",
        "the exception block. It separates the normal logic that should run only when everything\n",
        "goes well in the try block."
      ]
    },
    {
      "cell_type": "markdown",
      "id": "ee85eb8e-06dc-49f2-ae3a-dc443f5b948c",
      "metadata": {
        "id": "ee85eb8e-06dc-49f2-ae3a-dc443f5b948c"
      },
      "source": [
        "<h2 style=\"font-size:20px;\">17) What are the common logging levels in Python?</h2>"
      ]
    },
    {
      "cell_type": "markdown",
      "id": "b2b9d12f-98eb-4f72-93b3-07780a633392",
      "metadata": {
        "id": "b2b9d12f-98eb-4f72-93b3-07780a633392"
      },
      "source": [
        "The common logging levels in python are:\n",
        "\n",
        "1-DEBUG : To give detailed information of any variable, message while doing debugging.\n",
        "\n",
        "2-INFO : This is used to convey that the code is working as expected.\n",
        "\n",
        "3-WARNING : Used to indicate that something unexpected happened or potential issues in\n",
        "code.\n",
        "\n",
        "4-ERROR : Serious problem with some function.\n",
        "\n",
        "5-CRITICAL : Terminal of program/code/software."
      ]
    },
    {
      "cell_type": "markdown",
      "id": "92aa2ee5-045a-404a-9549-223a3bccdbbb",
      "metadata": {
        "id": "92aa2ee5-045a-404a-9549-223a3bccdbbb"
      },
      "source": [
        "<h2 style=\"font-size:20px;\">18) What is the difference between os.fork() and multiprocessing in Python?</h2>"
      ]
    },
    {
      "cell_type": "markdown",
      "id": "59f9f849-f0f4-4ebb-b3a7-9dffcfc98a6f",
      "metadata": {
        "id": "59f9f849-f0f4-4ebb-b3a7-9dffcfc98a6f"
      },
      "source": [
        "* os.fork(): This is system call that creates a new process by duplicating the calling process.\n",
        "The new process is an almost exact copy of parent process. This is low-level way to\n",
        "create processes and is only available in Unix-like systems.\n",
        "\n",
        "* Multiprocessing: This is the higher level, cross-platform module in python that provides\n",
        "an API for creating and managing processes. It is generally preffered way to achieve\n",
        "parrallelism in python or various opearting systems."
      ]
    },
    {
      "cell_type": "markdown",
      "id": "a50fec5c-086f-42db-ac23-fe0b152d4bb4",
      "metadata": {
        "id": "a50fec5c-086f-42db-ac23-fe0b152d4bb4"
      },
      "source": [
        "<h2 style=\"font-size:20px;\">19) What is the importance of closing a file in Python?</h2>"
      ]
    },
    {
      "cell_type": "markdown",
      "id": "9897acdc-a550-404e-864a-23d6ab1c2342",
      "metadata": {
        "id": "9897acdc-a550-404e-864a-23d6ab1c2342"
      },
      "source": [
        "* The importance of closing a file in python is an essential practice that helps maintain data\n",
        "integrity, prevent resource leaks and ensure the reliability of the program."
      ]
    },
    {
      "cell_type": "markdown",
      "id": "9d38ae3c-d096-47b1-a499-50516242090e",
      "metadata": {
        "id": "9d38ae3c-d096-47b1-a499-50516242090e"
      },
      "source": [
        "<h2 style=\"font-size:20px;\">20) What is the difference between file.read() and file.readline() in Python?</h2>"
      ]
    },
    {
      "cell_type": "markdown",
      "id": "23e2d1a1-818c-4fdb-86c0-303dd13fa0f5",
      "metadata": {
        "id": "23e2d1a1-818c-4fdb-86c0-303dd13fa0f5"
      },
      "source": [
        "* f.read() will read everything from starting whereas file.readline() will only read the first\n",
        "line."
      ]
    },
    {
      "cell_type": "markdown",
      "id": "fd0edfbb-2df1-46be-9b4f-7ed85568fc36",
      "metadata": {
        "id": "fd0edfbb-2df1-46be-9b4f-7ed85568fc36"
      },
      "source": [
        "<h2 style=\"font-size:20px;\">21) What is the logging module in Python used for?</h2>"
      ]
    },
    {
      "cell_type": "markdown",
      "id": "1b37e201-f10a-4b56-9517-3d82f664d635",
      "metadata": {
        "id": "1b37e201-f10a-4b56-9517-3d82f664d635"
      },
      "source": [
        "* The logging module in Python is used to record messages that describe what is happening in a program. It helps developers track the flow, catch bugs, and monitor system behavior — especially in larger or production-level applications."
      ]
    },
    {
      "cell_type": "markdown",
      "id": "a93f752c-b8e9-4c20-9726-3e4739d2ed81",
      "metadata": {
        "id": "a93f752c-b8e9-4c20-9726-3e4739d2ed81"
      },
      "source": [
        "<h2 style=\"font-size:20px;\">22) What is the os module in Python used for in file handling?</h2>"
      ]
    },
    {
      "cell_type": "markdown",
      "id": "c6ff2d27-8262-439f-90d6-e6d5f03341b7",
      "metadata": {
        "id": "c6ff2d27-8262-439f-90d6-e6d5f03341b7"
      },
      "source": [
        "* The os module in python used for in file handling as it provides functionality to interact\n",
        "with the operating system."
      ]
    },
    {
      "cell_type": "markdown",
      "id": "efaf7df5-d7f6-4501-ad9e-d3d1c7935146",
      "metadata": {
        "id": "efaf7df5-d7f6-4501-ad9e-d3d1c7935146"
      },
      "source": [
        "<h2 style=\"font-size:20px;\">23) What are the challenges associated with memory management in Python?</h2>"
      ]
    },
    {
      "cell_type": "markdown",
      "id": "bdc50788-d374-452a-96b9-fcd4ed764ce1",
      "metadata": {
        "id": "bdc50788-d374-452a-96b9-fcd4ed764ce1"
      },
      "source": [
        " The challenges associated with memory management in python are:\n",
        "* Global Interpreter Lock ( GIL) Python(specifically CPython) uses a Global Interpreter\n",
        "Lock, which restricts execution to one thread at a time, even on multi-core processsors.\n",
        "This limits true parrallelism in memory-intensive, multi-threade applications.\n",
        "* Although Python has automatic garbage collection, memory leaks can still happen due to\n",
        "unintentional and circular references that the garbage collector does not clean up\n",
        "efficiency."
      ]
    },
    {
      "cell_type": "markdown",
      "id": "6c986d17-3f5e-4170-8d4f-05118f2f3241",
      "metadata": {
        "id": "6c986d17-3f5e-4170-8d4f-05118f2f3241"
      },
      "source": [
        "<h2 style=\"font-size:20px;\">24) How do you raise an exception manually in Python?</h2>"
      ]
    },
    {
      "cell_type": "markdown",
      "id": "7eccf311-c407-40ce-a08b-f638b821ab87",
      "metadata": {
        "id": "7eccf311-c407-40ce-a08b-f638b821ab87"
      },
      "source": [
        "* We can raise an exception manually in python by using the raise statement. This is useful\n",
        "when you want to trigger an error intentionally, for example , to enforce a rule or validate\n",
        "input."
      ]
    },
    {
      "cell_type": "markdown",
      "id": "3fbe3463-f59f-41c6-b950-ac06f4c8795b",
      "metadata": {
        "id": "3fbe3463-f59f-41c6-b950-ac06f4c8795b"
      },
      "source": [
        "<h2 style=\"font-size:20px;\">25) Why is it important to use multithreading in certain applications?</h2>"
      ]
    },
    {
      "cell_type": "markdown",
      "id": "da732276-3031-4c02-a057-912bca451c63",
      "metadata": {
        "id": "da732276-3031-4c02-a057-912bca451c63"
      },
      "source": [
        "* Multithreading is important when you want to make your application more efficient, responsive, or capable of doing multiple tasks at once. It allows different parts (threads) of your program to run simultaneously, especially in I/O-bound tasks."
      ]
    },
    {
      "cell_type": "markdown",
      "id": "9a9221e8-80e8-41aa-8fd7-e6cb38a41927",
      "metadata": {
        "id": "9a9221e8-80e8-41aa-8fd7-e6cb38a41927"
      },
      "source": [
        "<h2 style=\"font-size:32px;\">Practical:</h2>"
      ]
    },
    {
      "cell_type": "code",
      "execution_count": 3,
      "id": "64e57372-8f24-4300-8079-bc52c4c994d3",
      "metadata": {
        "id": "64e57372-8f24-4300-8079-bc52c4c994d3",
        "outputId": "3d472fd7-c592-4108-c5b8-8b51dc38c706",
        "colab": {
          "base_uri": "https://localhost:8080/"
        }
      },
      "outputs": [
        {
          "output_type": "stream",
          "name": "stdout",
          "text": [
            "This is Anand Bharadwaj\n"
          ]
        }
      ],
      "source": [
        "#1) How can you open a file for writing in Python and write a string to it?\n",
        "with open(\"file.txt\" , \"w\") as f:\n",
        "    f.write(\"This is Anand Bharadwaj\")\n",
        "with open(\"file.txt\" , \"r\") as f:\n",
        "    Test = f.read()\n",
        "    print(Test)"
      ]
    },
    {
      "cell_type": "code",
      "execution_count": 4,
      "id": "0ac94186-151a-48b4-a9fa-7e4fa26a0c4e",
      "metadata": {
        "id": "0ac94186-151a-48b4-a9fa-7e4fa26a0c4e",
        "outputId": "5f287e95-c5e0-43c3-e1d3-eee5d7d1f235",
        "colab": {
          "base_uri": "https://localhost:8080/"
        }
      },
      "outputs": [
        {
          "output_type": "stream",
          "name": "stdout",
          "text": [
            "This is the First line\n",
            "This is the second line\n",
            "This is the third line\n",
            "\n"
          ]
        }
      ],
      "source": [
        "#2) Write a Python program to read the contents of a file and print each line.\n",
        "file = open(\"Test.txt\" , \"w\")\n",
        "file.write(\"This is the First line\\n\")\n",
        "file.write(\"This is the second line\\n\")\n",
        "file.write(\"This is the third line\\n\")\n",
        "file = open(\"Test.txt\" , \"r\")\n",
        "file.seek(0)\n",
        "print(file.read())"
      ]
    },
    {
      "cell_type": "code",
      "execution_count": 5,
      "id": "ccee41a1-bf4f-4bf8-b607-f817ea9cd56e",
      "metadata": {
        "id": "ccee41a1-bf4f-4bf8-b607-f817ea9cd56e",
        "outputId": "4c5d29d0-bb31-4a45-df4d-22782dd4b0ff",
        "colab": {
          "base_uri": "https://localhost:8080/"
        }
      },
      "outputs": [
        {
          "output_type": "stream",
          "name": "stdout",
          "text": [
            "The file does not exist.\n"
          ]
        }
      ],
      "source": [
        "#3)  How would you handle a case where the file doesn't exist while trying to open it for reading?\n",
        "try:\n",
        "    with open(\"data.txt\", \"r\") as file:\n",
        "        content = file.read()\n",
        "        print(content)\n",
        "except FileNotFoundError:\n",
        "    print(\"The file does not exist.\")"
      ]
    },
    {
      "cell_type": "code",
      "execution_count": 2,
      "id": "3f09d24c-fe2a-4dff-933e-e0b1989c0028",
      "metadata": {
        "id": "3f09d24c-fe2a-4dff-933e-e0b1989c0028",
        "outputId": "c05dc2a5-b259-42c5-dbf8-f33543836799",
        "colab": {
          "base_uri": "https://localhost:8080/",
          "height": 109
        }
      },
      "outputs": [
        {
          "output_type": "display_data",
          "data": {
            "text/plain": [
              "<IPython.core.display.HTML object>"
            ],
            "text/html": [
              "\n",
              "     <input type=\"file\" id=\"files-55bd5468-6fd1-4b10-8d87-e71d4a37c5a1\" name=\"files[]\" multiple disabled\n",
              "        style=\"border:none\" />\n",
              "     <output id=\"result-55bd5468-6fd1-4b10-8d87-e71d4a37c5a1\">\n",
              "      Upload widget is only available when the cell has been executed in the\n",
              "      current browser session. Please rerun this cell to enable.\n",
              "      </output>\n",
              "      <script>// Copyright 2017 Google LLC\n",
              "//\n",
              "// Licensed under the Apache License, Version 2.0 (the \"License\");\n",
              "// you may not use this file except in compliance with the License.\n",
              "// You may obtain a copy of the License at\n",
              "//\n",
              "//      http://www.apache.org/licenses/LICENSE-2.0\n",
              "//\n",
              "// Unless required by applicable law or agreed to in writing, software\n",
              "// distributed under the License is distributed on an \"AS IS\" BASIS,\n",
              "// WITHOUT WARRANTIES OR CONDITIONS OF ANY KIND, either express or implied.\n",
              "// See the License for the specific language governing permissions and\n",
              "// limitations under the License.\n",
              "\n",
              "/**\n",
              " * @fileoverview Helpers for google.colab Python module.\n",
              " */\n",
              "(function(scope) {\n",
              "function span(text, styleAttributes = {}) {\n",
              "  const element = document.createElement('span');\n",
              "  element.textContent = text;\n",
              "  for (const key of Object.keys(styleAttributes)) {\n",
              "    element.style[key] = styleAttributes[key];\n",
              "  }\n",
              "  return element;\n",
              "}\n",
              "\n",
              "// Max number of bytes which will be uploaded at a time.\n",
              "const MAX_PAYLOAD_SIZE = 100 * 1024;\n",
              "\n",
              "function _uploadFiles(inputId, outputId) {\n",
              "  const steps = uploadFilesStep(inputId, outputId);\n",
              "  const outputElement = document.getElementById(outputId);\n",
              "  // Cache steps on the outputElement to make it available for the next call\n",
              "  // to uploadFilesContinue from Python.\n",
              "  outputElement.steps = steps;\n",
              "\n",
              "  return _uploadFilesContinue(outputId);\n",
              "}\n",
              "\n",
              "// This is roughly an async generator (not supported in the browser yet),\n",
              "// where there are multiple asynchronous steps and the Python side is going\n",
              "// to poll for completion of each step.\n",
              "// This uses a Promise to block the python side on completion of each step,\n",
              "// then passes the result of the previous step as the input to the next step.\n",
              "function _uploadFilesContinue(outputId) {\n",
              "  const outputElement = document.getElementById(outputId);\n",
              "  const steps = outputElement.steps;\n",
              "\n",
              "  const next = steps.next(outputElement.lastPromiseValue);\n",
              "  return Promise.resolve(next.value.promise).then((value) => {\n",
              "    // Cache the last promise value to make it available to the next\n",
              "    // step of the generator.\n",
              "    outputElement.lastPromiseValue = value;\n",
              "    return next.value.response;\n",
              "  });\n",
              "}\n",
              "\n",
              "/**\n",
              " * Generator function which is called between each async step of the upload\n",
              " * process.\n",
              " * @param {string} inputId Element ID of the input file picker element.\n",
              " * @param {string} outputId Element ID of the output display.\n",
              " * @return {!Iterable<!Object>} Iterable of next steps.\n",
              " */\n",
              "function* uploadFilesStep(inputId, outputId) {\n",
              "  const inputElement = document.getElementById(inputId);\n",
              "  inputElement.disabled = false;\n",
              "\n",
              "  const outputElement = document.getElementById(outputId);\n",
              "  outputElement.innerHTML = '';\n",
              "\n",
              "  const pickedPromise = new Promise((resolve) => {\n",
              "    inputElement.addEventListener('change', (e) => {\n",
              "      resolve(e.target.files);\n",
              "    });\n",
              "  });\n",
              "\n",
              "  const cancel = document.createElement('button');\n",
              "  inputElement.parentElement.appendChild(cancel);\n",
              "  cancel.textContent = 'Cancel upload';\n",
              "  const cancelPromise = new Promise((resolve) => {\n",
              "    cancel.onclick = () => {\n",
              "      resolve(null);\n",
              "    };\n",
              "  });\n",
              "\n",
              "  // Wait for the user to pick the files.\n",
              "  const files = yield {\n",
              "    promise: Promise.race([pickedPromise, cancelPromise]),\n",
              "    response: {\n",
              "      action: 'starting',\n",
              "    }\n",
              "  };\n",
              "\n",
              "  cancel.remove();\n",
              "\n",
              "  // Disable the input element since further picks are not allowed.\n",
              "  inputElement.disabled = true;\n",
              "\n",
              "  if (!files) {\n",
              "    return {\n",
              "      response: {\n",
              "        action: 'complete',\n",
              "      }\n",
              "    };\n",
              "  }\n",
              "\n",
              "  for (const file of files) {\n",
              "    const li = document.createElement('li');\n",
              "    li.append(span(file.name, {fontWeight: 'bold'}));\n",
              "    li.append(span(\n",
              "        `(${file.type || 'n/a'}) - ${file.size} bytes, ` +\n",
              "        `last modified: ${\n",
              "            file.lastModifiedDate ? file.lastModifiedDate.toLocaleDateString() :\n",
              "                                    'n/a'} - `));\n",
              "    const percent = span('0% done');\n",
              "    li.appendChild(percent);\n",
              "\n",
              "    outputElement.appendChild(li);\n",
              "\n",
              "    const fileDataPromise = new Promise((resolve) => {\n",
              "      const reader = new FileReader();\n",
              "      reader.onload = (e) => {\n",
              "        resolve(e.target.result);\n",
              "      };\n",
              "      reader.readAsArrayBuffer(file);\n",
              "    });\n",
              "    // Wait for the data to be ready.\n",
              "    let fileData = yield {\n",
              "      promise: fileDataPromise,\n",
              "      response: {\n",
              "        action: 'continue',\n",
              "      }\n",
              "    };\n",
              "\n",
              "    // Use a chunked sending to avoid message size limits. See b/62115660.\n",
              "    let position = 0;\n",
              "    do {\n",
              "      const length = Math.min(fileData.byteLength - position, MAX_PAYLOAD_SIZE);\n",
              "      const chunk = new Uint8Array(fileData, position, length);\n",
              "      position += length;\n",
              "\n",
              "      const base64 = btoa(String.fromCharCode.apply(null, chunk));\n",
              "      yield {\n",
              "        response: {\n",
              "          action: 'append',\n",
              "          file: file.name,\n",
              "          data: base64,\n",
              "        },\n",
              "      };\n",
              "\n",
              "      let percentDone = fileData.byteLength === 0 ?\n",
              "          100 :\n",
              "          Math.round((position / fileData.byteLength) * 100);\n",
              "      percent.textContent = `${percentDone}% done`;\n",
              "\n",
              "    } while (position < fileData.byteLength);\n",
              "  }\n",
              "\n",
              "  // All done.\n",
              "  yield {\n",
              "    response: {\n",
              "      action: 'complete',\n",
              "    }\n",
              "  };\n",
              "}\n",
              "\n",
              "scope.google = scope.google || {};\n",
              "scope.google.colab = scope.google.colab || {};\n",
              "scope.google.colab._files = {\n",
              "  _uploadFiles,\n",
              "  _uploadFilesContinue,\n",
              "};\n",
              "})(self);\n",
              "</script> "
            ]
          },
          "metadata": {}
        },
        {
          "output_type": "stream",
          "name": "stdout",
          "text": [
            "Saving sample.txt to sample (1).txt\n",
            "Hello World!\n",
            "File copied successfully!\n"
          ]
        },
        {
          "output_type": "display_data",
          "data": {
            "text/plain": [
              "<IPython.core.display.Javascript object>"
            ],
            "application/javascript": [
              "\n",
              "    async function download(id, filename, size) {\n",
              "      if (!google.colab.kernel.accessAllowed) {\n",
              "        return;\n",
              "      }\n",
              "      const div = document.createElement('div');\n",
              "      const label = document.createElement('label');\n",
              "      label.textContent = `Downloading \"${filename}\": `;\n",
              "      div.appendChild(label);\n",
              "      const progress = document.createElement('progress');\n",
              "      progress.max = size;\n",
              "      div.appendChild(progress);\n",
              "      document.body.appendChild(div);\n",
              "\n",
              "      const buffers = [];\n",
              "      let downloaded = 0;\n",
              "\n",
              "      const channel = await google.colab.kernel.comms.open(id);\n",
              "      // Send a message to notify the kernel that we're ready.\n",
              "      channel.send({})\n",
              "\n",
              "      for await (const message of channel.messages) {\n",
              "        // Send a message to notify the kernel that we're ready.\n",
              "        channel.send({})\n",
              "        if (message.buffers) {\n",
              "          for (const buffer of message.buffers) {\n",
              "            buffers.push(buffer);\n",
              "            downloaded += buffer.byteLength;\n",
              "            progress.value = downloaded;\n",
              "          }\n",
              "        }\n",
              "      }\n",
              "      const blob = new Blob(buffers, {type: 'application/binary'});\n",
              "      const a = document.createElement('a');\n",
              "      a.href = window.URL.createObjectURL(blob);\n",
              "      a.download = filename;\n",
              "      div.appendChild(a);\n",
              "      a.click();\n",
              "      div.remove();\n",
              "    }\n",
              "  "
            ]
          },
          "metadata": {}
        },
        {
          "output_type": "display_data",
          "data": {
            "text/plain": [
              "<IPython.core.display.Javascript object>"
            ],
            "application/javascript": [
              "download(\"download_7a1a7efa-321d-481a-bd0a-c1e5b42209fa\", \"destination.txt\", 12)"
            ]
          },
          "metadata": {}
        }
      ],
      "source": [
        "#4) Write a Python script that reads from one file and writes its content to another file.\n",
        "from google.colab import files\n",
        "uploaded = files.upload()\n",
        "with open(\"sample.txt\", \"r\") as source_file:\n",
        "    content = source_file.read()\n",
        "with open(\"destination.txt\", \"w\") as destination_file:\n",
        "    destination_file.write(content)\n",
        "with open(\"destination.txt\", \"r\") as destination_file:\n",
        "    print(destination_file.read())\n",
        "print(\"File copied successfully!\")\n",
        "files.download(\"destination.txt\")"
      ]
    },
    {
      "cell_type": "code",
      "execution_count": 5,
      "id": "f012b37e-c121-4990-887d-20954a905591",
      "metadata": {
        "id": "f012b37e-c121-4990-887d-20954a905591",
        "outputId": "2a66133b-6bd5-40c3-d05e-e8fb34a2a03c",
        "colab": {
          "base_uri": "https://localhost:8080/"
        }
      },
      "outputs": [
        {
          "output_type": "stream",
          "name": "stdout",
          "text": [
            "Enter numerator: 5\n",
            "Enter denominator: 0\n",
            "Cannot divide by zero. Please enter a non-zero denominator.\n"
          ]
        }
      ],
      "source": [
        "#5) How would you catch and handle division by zero error in Python?\n",
        "try:\n",
        "    a = int(input(\"Enter numerator: \"))\n",
        "    b = int(input(\"Enter denominator: \"))\n",
        "    result = a / b\n",
        "    print(\"Result:\", result)\n",
        "\n",
        "except ZeroDivisionError:\n",
        "    print(\"Cannot divide by zero. Please enter a non-zero denominator.\")"
      ]
    },
    {
      "cell_type": "code",
      "execution_count": 6,
      "id": "b3651314-b786-4482-806e-24f5ecf5e002",
      "metadata": {
        "id": "b3651314-b786-4482-806e-24f5ecf5e002",
        "outputId": "3137af38-6c15-4583-b26a-9059339c6a13",
        "colab": {
          "base_uri": "https://localhost:8080/"
        }
      },
      "outputs": [
        {
          "name": "stdout",
          "output_type": "stream",
          "text": [
            "Enter numerator: 6\n",
            "Enter denominator: 0\n"
          ]
        },
        {
          "output_type": "stream",
          "name": "stderr",
          "text": [
            "ERROR - Division by zero attempted: division by zero\n"
          ]
        },
        {
          "output_type": "stream",
          "name": "stdout",
          "text": [
            "Cannot divide by zero.\n"
          ]
        }
      ],
      "source": [
        "#6) Write a Python program that logs an error message to a log file when a division by zero exception occurs.\n",
        "import logging\n",
        "\n",
        "logging.basicConfig(level=logging.DEBUG,\n",
        "    format=\"%(levelname)s - %(message)s\" , handlers=[\n",
        "        logging.FileHandler(\"logfile.txt\"),\n",
        "        logging.StreamHandler()],force=True)\n",
        "try:\n",
        "    a = int(input(\"Enter numerator: \"))\n",
        "    b = int(input(\"Enter denominator: \"))\n",
        "    result = a / b\n",
        "    print(\"Result:\", result)\n",
        "\n",
        "except ZeroDivisionError as e:\n",
        "    print(\"Cannot divide by zero.\")\n",
        "    logging.error(\"Division by zero attempted: %s\", e)\n"
      ]
    },
    {
      "cell_type": "code",
      "execution_count": 7,
      "id": "772b8116-8a12-455a-a531-48054c8b1f79",
      "metadata": {
        "id": "772b8116-8a12-455a-a531-48054c8b1f79",
        "outputId": "40e44a99-335f-4e24-b5ba-3081f74d7d56",
        "colab": {
          "base_uri": "https://localhost:8080/"
        }
      },
      "outputs": [
        {
          "output_type": "stream",
          "name": "stderr",
          "text": [
            "DEBUG - Debug message\n",
            "INFO - Info message\n",
            "WARNING - Warning message\n",
            "ERROR - Error message\n"
          ]
        }
      ],
      "source": [
        "#7) How do you log information at different levels (INFO, ERROR, WARNING) in Python using the logging module.\n",
        "import logging\n",
        "\n",
        "logging.basicConfig(\n",
        "    level=logging.DEBUG,\n",
        "    format='%(levelname)s - %(message)s',\n",
        "    handlers=[\n",
        "        logging.FileHandler(\"logfile.txt\"),\n",
        "        logging.StreamHandler()\n",
        "    ],force=True)\n",
        "\n",
        "logging.debug(\"Debug message\")\n",
        "logging.info(\"Info message\")\n",
        "logging.warning(\"Warning message\")\n",
        "logging.error(\"Error message\")\n"
      ]
    },
    {
      "cell_type": "code",
      "execution_count": 8,
      "id": "5213c6e4-dbb6-4adc-b320-75c2ecbd3f58",
      "metadata": {
        "id": "5213c6e4-dbb6-4adc-b320-75c2ecbd3f58",
        "outputId": "dff84708-de1f-4cd5-abd9-0779a6997c2c",
        "colab": {
          "base_uri": "https://localhost:8080/"
        }
      },
      "outputs": [
        {
          "output_type": "stream",
          "name": "stdout",
          "text": [
            "Error: The file 'data.txt' was not found.\n"
          ]
        }
      ],
      "source": [
        "#8 Write a program to handle a file opening error using exception handling.\n",
        "try:\n",
        "    file = open(\"data.txt\" , \"r\")\n",
        "    content = file.read()\n",
        "    print(content)\n",
        "except FileNotFoundError:\n",
        "    print(\"Error: The file 'data.txt' was not found.\")"
      ]
    },
    {
      "cell_type": "code",
      "execution_count": 10,
      "id": "ef0c623e-5620-459a-9297-6721c1285596",
      "metadata": {
        "id": "ef0c623e-5620-459a-9297-6721c1285596",
        "outputId": "a877770b-4ad8-44da-9a4a-932292b7ac61",
        "colab": {
          "base_uri": "https://localhost:8080/"
        }
      },
      "outputs": [
        {
          "output_type": "stream",
          "name": "stdout",
          "text": [
            "['This first line', 'This is second line', 'This is third line']\n"
          ]
        }
      ],
      "source": [
        "#9 How can you read a file line by line and store its content in a list in Python?\n",
        "with open(\"file_list.txt\",\"w\")as f:\n",
        "  f.write(\"This first line\\n\")\n",
        "  f.write(\"This is second line\\n\")\n",
        "  f.write(\"This is third line\\n\")\n",
        "lines =[]\n",
        "try:\n",
        "  with open(\"file_list.txt\",\"r\")as f:\n",
        "    for line in f:\n",
        "      lines.append(line.strip())\n",
        "except FileNotFoundError:\n",
        "  print(\"ERROR: The file was not found\")\n",
        "print(lines)"
      ]
    },
    {
      "cell_type": "code",
      "execution_count": 12,
      "id": "ae50070c-9e85-4793-a15d-297695806850",
      "metadata": {
        "id": "ae50070c-9e85-4793-a15d-297695806850",
        "outputId": "34680e84-e9e5-4150-9f72-62c0b2229f72",
        "colab": {
          "base_uri": "https://localhost:8080/",
          "height": 145
        }
      },
      "outputs": [
        {
          "output_type": "display_data",
          "data": {
            "text/plain": [
              "<IPython.core.display.HTML object>"
            ],
            "text/html": [
              "\n",
              "     <input type=\"file\" id=\"files-d775ff25-2c29-4fa2-aec1-e906237cc645\" name=\"files[]\" multiple disabled\n",
              "        style=\"border:none\" />\n",
              "     <output id=\"result-d775ff25-2c29-4fa2-aec1-e906237cc645\">\n",
              "      Upload widget is only available when the cell has been executed in the\n",
              "      current browser session. Please rerun this cell to enable.\n",
              "      </output>\n",
              "      <script>// Copyright 2017 Google LLC\n",
              "//\n",
              "// Licensed under the Apache License, Version 2.0 (the \"License\");\n",
              "// you may not use this file except in compliance with the License.\n",
              "// You may obtain a copy of the License at\n",
              "//\n",
              "//      http://www.apache.org/licenses/LICENSE-2.0\n",
              "//\n",
              "// Unless required by applicable law or agreed to in writing, software\n",
              "// distributed under the License is distributed on an \"AS IS\" BASIS,\n",
              "// WITHOUT WARRANTIES OR CONDITIONS OF ANY KIND, either express or implied.\n",
              "// See the License for the specific language governing permissions and\n",
              "// limitations under the License.\n",
              "\n",
              "/**\n",
              " * @fileoverview Helpers for google.colab Python module.\n",
              " */\n",
              "(function(scope) {\n",
              "function span(text, styleAttributes = {}) {\n",
              "  const element = document.createElement('span');\n",
              "  element.textContent = text;\n",
              "  for (const key of Object.keys(styleAttributes)) {\n",
              "    element.style[key] = styleAttributes[key];\n",
              "  }\n",
              "  return element;\n",
              "}\n",
              "\n",
              "// Max number of bytes which will be uploaded at a time.\n",
              "const MAX_PAYLOAD_SIZE = 100 * 1024;\n",
              "\n",
              "function _uploadFiles(inputId, outputId) {\n",
              "  const steps = uploadFilesStep(inputId, outputId);\n",
              "  const outputElement = document.getElementById(outputId);\n",
              "  // Cache steps on the outputElement to make it available for the next call\n",
              "  // to uploadFilesContinue from Python.\n",
              "  outputElement.steps = steps;\n",
              "\n",
              "  return _uploadFilesContinue(outputId);\n",
              "}\n",
              "\n",
              "// This is roughly an async generator (not supported in the browser yet),\n",
              "// where there are multiple asynchronous steps and the Python side is going\n",
              "// to poll for completion of each step.\n",
              "// This uses a Promise to block the python side on completion of each step,\n",
              "// then passes the result of the previous step as the input to the next step.\n",
              "function _uploadFilesContinue(outputId) {\n",
              "  const outputElement = document.getElementById(outputId);\n",
              "  const steps = outputElement.steps;\n",
              "\n",
              "  const next = steps.next(outputElement.lastPromiseValue);\n",
              "  return Promise.resolve(next.value.promise).then((value) => {\n",
              "    // Cache the last promise value to make it available to the next\n",
              "    // step of the generator.\n",
              "    outputElement.lastPromiseValue = value;\n",
              "    return next.value.response;\n",
              "  });\n",
              "}\n",
              "\n",
              "/**\n",
              " * Generator function which is called between each async step of the upload\n",
              " * process.\n",
              " * @param {string} inputId Element ID of the input file picker element.\n",
              " * @param {string} outputId Element ID of the output display.\n",
              " * @return {!Iterable<!Object>} Iterable of next steps.\n",
              " */\n",
              "function* uploadFilesStep(inputId, outputId) {\n",
              "  const inputElement = document.getElementById(inputId);\n",
              "  inputElement.disabled = false;\n",
              "\n",
              "  const outputElement = document.getElementById(outputId);\n",
              "  outputElement.innerHTML = '';\n",
              "\n",
              "  const pickedPromise = new Promise((resolve) => {\n",
              "    inputElement.addEventListener('change', (e) => {\n",
              "      resolve(e.target.files);\n",
              "    });\n",
              "  });\n",
              "\n",
              "  const cancel = document.createElement('button');\n",
              "  inputElement.parentElement.appendChild(cancel);\n",
              "  cancel.textContent = 'Cancel upload';\n",
              "  const cancelPromise = new Promise((resolve) => {\n",
              "    cancel.onclick = () => {\n",
              "      resolve(null);\n",
              "    };\n",
              "  });\n",
              "\n",
              "  // Wait for the user to pick the files.\n",
              "  const files = yield {\n",
              "    promise: Promise.race([pickedPromise, cancelPromise]),\n",
              "    response: {\n",
              "      action: 'starting',\n",
              "    }\n",
              "  };\n",
              "\n",
              "  cancel.remove();\n",
              "\n",
              "  // Disable the input element since further picks are not allowed.\n",
              "  inputElement.disabled = true;\n",
              "\n",
              "  if (!files) {\n",
              "    return {\n",
              "      response: {\n",
              "        action: 'complete',\n",
              "      }\n",
              "    };\n",
              "  }\n",
              "\n",
              "  for (const file of files) {\n",
              "    const li = document.createElement('li');\n",
              "    li.append(span(file.name, {fontWeight: 'bold'}));\n",
              "    li.append(span(\n",
              "        `(${file.type || 'n/a'}) - ${file.size} bytes, ` +\n",
              "        `last modified: ${\n",
              "            file.lastModifiedDate ? file.lastModifiedDate.toLocaleDateString() :\n",
              "                                    'n/a'} - `));\n",
              "    const percent = span('0% done');\n",
              "    li.appendChild(percent);\n",
              "\n",
              "    outputElement.appendChild(li);\n",
              "\n",
              "    const fileDataPromise = new Promise((resolve) => {\n",
              "      const reader = new FileReader();\n",
              "      reader.onload = (e) => {\n",
              "        resolve(e.target.result);\n",
              "      };\n",
              "      reader.readAsArrayBuffer(file);\n",
              "    });\n",
              "    // Wait for the data to be ready.\n",
              "    let fileData = yield {\n",
              "      promise: fileDataPromise,\n",
              "      response: {\n",
              "        action: 'continue',\n",
              "      }\n",
              "    };\n",
              "\n",
              "    // Use a chunked sending to avoid message size limits. See b/62115660.\n",
              "    let position = 0;\n",
              "    do {\n",
              "      const length = Math.min(fileData.byteLength - position, MAX_PAYLOAD_SIZE);\n",
              "      const chunk = new Uint8Array(fileData, position, length);\n",
              "      position += length;\n",
              "\n",
              "      const base64 = btoa(String.fromCharCode.apply(null, chunk));\n",
              "      yield {\n",
              "        response: {\n",
              "          action: 'append',\n",
              "          file: file.name,\n",
              "          data: base64,\n",
              "        },\n",
              "      };\n",
              "\n",
              "      let percentDone = fileData.byteLength === 0 ?\n",
              "          100 :\n",
              "          Math.round((position / fileData.byteLength) * 100);\n",
              "      percent.textContent = `${percentDone}% done`;\n",
              "\n",
              "    } while (position < fileData.byteLength);\n",
              "  }\n",
              "\n",
              "  // All done.\n",
              "  yield {\n",
              "    response: {\n",
              "      action: 'complete',\n",
              "    }\n",
              "  };\n",
              "}\n",
              "\n",
              "scope.google = scope.google || {};\n",
              "scope.google.colab = scope.google.colab || {};\n",
              "scope.google.colab._files = {\n",
              "  _uploadFiles,\n",
              "  _uploadFilesContinue,\n",
              "};\n",
              "})(self);\n",
              "</script> "
            ]
          },
          "metadata": {}
        },
        {
          "output_type": "stream",
          "name": "stdout",
          "text": [
            "Saving sample.txt to sample (3).txt\n",
            "Data appended successfully.\n",
            "Hello World!This is an appended line.\n",
            "This is an appended line.\n",
            "\n"
          ]
        },
        {
          "output_type": "display_data",
          "data": {
            "text/plain": [
              "<IPython.core.display.Javascript object>"
            ],
            "application/javascript": [
              "\n",
              "    async function download(id, filename, size) {\n",
              "      if (!google.colab.kernel.accessAllowed) {\n",
              "        return;\n",
              "      }\n",
              "      const div = document.createElement('div');\n",
              "      const label = document.createElement('label');\n",
              "      label.textContent = `Downloading \"${filename}\": `;\n",
              "      div.appendChild(label);\n",
              "      const progress = document.createElement('progress');\n",
              "      progress.max = size;\n",
              "      div.appendChild(progress);\n",
              "      document.body.appendChild(div);\n",
              "\n",
              "      const buffers = [];\n",
              "      let downloaded = 0;\n",
              "\n",
              "      const channel = await google.colab.kernel.comms.open(id);\n",
              "      // Send a message to notify the kernel that we're ready.\n",
              "      channel.send({})\n",
              "\n",
              "      for await (const message of channel.messages) {\n",
              "        // Send a message to notify the kernel that we're ready.\n",
              "        channel.send({})\n",
              "        if (message.buffers) {\n",
              "          for (const buffer of message.buffers) {\n",
              "            buffers.push(buffer);\n",
              "            downloaded += buffer.byteLength;\n",
              "            progress.value = downloaded;\n",
              "          }\n",
              "        }\n",
              "      }\n",
              "      const blob = new Blob(buffers, {type: 'application/binary'});\n",
              "      const a = document.createElement('a');\n",
              "      a.href = window.URL.createObjectURL(blob);\n",
              "      a.download = filename;\n",
              "      div.appendChild(a);\n",
              "      a.click();\n",
              "      div.remove();\n",
              "    }\n",
              "  "
            ]
          },
          "metadata": {}
        },
        {
          "output_type": "display_data",
          "data": {
            "text/plain": [
              "<IPython.core.display.Javascript object>"
            ],
            "application/javascript": [
              "download(\"download_70af37fd-28e6-46b0-a427-6b0253ff2664\", \"sample.txt\", 64)"
            ]
          },
          "metadata": {}
        }
      ],
      "source": [
        "#10 How can you append data to an exiting file in python?\n",
        "from google.colab import files\n",
        "uploaded = files.upload()\n",
        "with open(\"sample.txt\", \"a\") as file:\n",
        "    file.write(\"This is an appended line.\\n\")\n",
        "print(\"Data appended successfully.\")\n",
        "with open(\"sample.txt\", \"r\") as file:\n",
        "    print(file.read())\n",
        "files.download(\"sample.txt\")"
      ]
    },
    {
      "cell_type": "code",
      "execution_count": 13,
      "id": "15ab8227-7c13-4507-8f38-599def351f47",
      "metadata": {
        "id": "15ab8227-7c13-4507-8f38-599def351f47",
        "outputId": "38f9cc16-b2ea-4331-d09b-9a71dde637d3",
        "colab": {
          "base_uri": "https://localhost:8080/"
        }
      },
      "outputs": [
        {
          "output_type": "stream",
          "name": "stdout",
          "text": [
            "Error: The key 'city' does not exist in the dictionary.\n"
          ]
        }
      ],
      "source": [
        "#11 Write python program that uses a try-except block to handle an error when attempting to access a dictionary key that doesn't exist.\n",
        "Dict = {\"Name\":\"Anand Bharadwaj\" , \"Age\":22 , \"Course\":\"DA\"}\n",
        "try:\n",
        "    print(\"Student's city:\", Dict[\"city\"])\n",
        "except KeyError:\n",
        "    print(\"Error: The key 'city' does not exist in the dictionary.\")"
      ]
    },
    {
      "cell_type": "code",
      "execution_count": 15,
      "id": "33a0c25f-91bb-480b-bbe0-a804d85aa93b",
      "metadata": {
        "id": "33a0c25f-91bb-480b-bbe0-a804d85aa93b",
        "outputId": "47e69488-6069-4f72-d0b9-86cca5d3e62d",
        "colab": {
          "base_uri": "https://localhost:8080/"
        }
      },
      "outputs": [
        {
          "output_type": "stream",
          "name": "stdout",
          "text": [
            "Enter the number: 6\n",
            "Enter the number: 0\n",
            "Division by zero is not Possible.\n"
          ]
        }
      ],
      "source": [
        "#12 Write a program that demonstrates using multiple except blocks to handle different types of exceptions.\n",
        "try:\n",
        "    num1 = int(input(\"Enter the number: \"))\n",
        "    num2 = int(input(\"Enter the number: \"))\n",
        "    result = num1/num2\n",
        "    print(\"Result\" , result)\n",
        "except ValueError:\n",
        "    print(\"Invalid value\")\n",
        "except ZeroDivisionError:\n",
        "    print(\"Division by zero is not Possible.\")\n",
        "except IndexError:\n",
        "    print(\"List index out of range.\")\n",
        "except Exception as e:\n",
        "    print(\"An unexpected error occurred:\", e)"
      ]
    },
    {
      "cell_type": "code",
      "execution_count": 17,
      "id": "60a5f3e1-912b-423e-9c77-f27251c5b1c4",
      "metadata": {
        "id": "60a5f3e1-912b-423e-9c77-f27251c5b1c4",
        "outputId": "6055b2c6-a4fc-436c-8759-5f47f9b3186a",
        "colab": {
          "base_uri": "https://localhost:8080/"
        }
      },
      "outputs": [
        {
          "output_type": "stream",
          "name": "stdout",
          "text": [
            "File does not exist.\n"
          ]
        }
      ],
      "source": [
        "#13 How do you check if a file exists before attempting to read it in python?\n",
        "file_path = \"example.txt\"\n",
        "\n",
        "if os.path.exists(file_path):\n",
        "    with open(file_path, \"r\") as file:\n",
        "        content = file.read()\n",
        "        print(content)\n",
        "else:\n",
        "    print(\"File does not exist.\")"
      ]
    },
    {
      "cell_type": "code",
      "execution_count": 20,
      "id": "ee9bd484-bc50-4e49-b7af-f849511e2f9f",
      "metadata": {
        "id": "ee9bd484-bc50-4e49-b7af-f849511e2f9f",
        "outputId": "380d8778-2425-498e-be66-e594d63893f7",
        "colab": {
          "base_uri": "https://localhost:8080/"
        }
      },
      "outputs": [
        {
          "output_type": "stream",
          "name": "stderr",
          "text": [
            "INFO , Program started successfully.\n"
          ]
        },
        {
          "name": "stdout",
          "output_type": "stream",
          "text": [
            "Enter a number: 5\n",
            "Enter another number: 1\n"
          ]
        },
        {
          "output_type": "stream",
          "name": "stderr",
          "text": [
            "INFO , Division operation completed successfully.\n"
          ]
        },
        {
          "output_type": "stream",
          "name": "stdout",
          "text": [
            "Result: 5.0\n"
          ]
        }
      ],
      "source": [
        "#14 Write a program that uses logging module to log both informational and error messages.\n",
        "import logging\n",
        "logging.basicConfig(level = logging.DEBUG , format = \"%(levelname)s , %(message)s\" ,\n",
        "                   handlers=[logging.FileHandler(\"logfile.txt\"),logging.StreamHandler()],force=True)\n",
        "logging.info(\"Program started successfully.\")\n",
        "try:\n",
        "    num1 = int(input(\"Enter a number: \"))\n",
        "    num2 = int(input(\"Enter another number: \"))\n",
        "    result = num1 / num2\n",
        "    print(\"Result:\", result)\n",
        "    logging.info(\"Division operation completed successfully.\")\n",
        "except ZeroDivisionError:\n",
        "    logging.error(\"Division by zero error occurred.\")\n",
        "except ValueError:\n",
        "    logging.error(\"Invalid value\")\n",
        "except Exception as e:\n",
        "    logging.error(f\"Unexpected error: {e}\")"
      ]
    },
    {
      "cell_type": "code",
      "execution_count": 21,
      "id": "07d036db-bc8f-472b-9746-ec16535351b0",
      "metadata": {
        "id": "07d036db-bc8f-472b-9746-ec16535351b0",
        "outputId": "2b0f8f2b-964b-4a13-f57b-f3db51c3bbc2",
        "colab": {
          "base_uri": "https://localhost:8080/"
        }
      },
      "outputs": [
        {
          "output_type": "stream",
          "name": "stdout",
          "text": [
            "File Content:\n",
            "\n",
            "Hello World!This is an appended line.\n",
            "This is an appended line.\n",
            "\n",
            "The Program has been excuted\n"
          ]
        }
      ],
      "source": [
        "#15 Write a python program that prints the content of a file and handles the case when file is empty.\n",
        "file_name = \"sample.txt\"\n",
        "try:\n",
        "    with open(file_name, \"r\") as file:\n",
        "        content = file.read()\n",
        "        if content.strip() == \"\":\n",
        "            print(\"The file is empty.\")\n",
        "        else:\n",
        "            print(\"File Content:\\n\")\n",
        "            print(content)\n",
        "\n",
        "except FileNotFoundError:\n",
        "    print(\"Error: File not found.\")\n",
        "finally:\n",
        "    print(\"The Program has been excuted\")\n"
      ]
    },
    {
      "cell_type": "code",
      "execution_count": 22,
      "id": "f1beac52-7130-4009-b45f-ae829fc3cb2c",
      "metadata": {
        "id": "f1beac52-7130-4009-b45f-ae829fc3cb2c",
        "outputId": "53cea3a0-7428-4b40-9e11-458545f88a84",
        "colab": {
          "base_uri": "https://localhost:8080/"
        }
      },
      "outputs": [
        {
          "output_type": "stream",
          "name": "stdout",
          "text": [
            "current memory usage is (168001026, 168012148)\n"
          ]
        }
      ],
      "source": [
        "#16 Demonstrate how to use memory profiling to check the memory usage of a small program.\n",
        "import tracemalloc\n",
        "tracemalloc.start()\n",
        "a=[1] * (10**6)\n",
        "b=[2] * (2*10**7)\n",
        "print(f\"current memory usage is {tracemalloc.get_traced_memory()}\")\n",
        "tracemalloc.stop()"
      ]
    },
    {
      "cell_type": "code",
      "execution_count": 23,
      "id": "74ec4d7e-4fc2-40c0-959e-6e1ca329727d",
      "metadata": {
        "id": "74ec4d7e-4fc2-40c0-959e-6e1ca329727d",
        "outputId": "ba23f8f2-19af-4f29-91fe-c29a12df46e4",
        "colab": {
          "base_uri": "https://localhost:8080/"
        }
      },
      "outputs": [
        {
          "output_type": "stream",
          "name": "stdout",
          "text": [
            "1\n",
            "2\n",
            "5\n",
            "8\n",
            "4\n",
            "6\n",
            "8\n",
            "9\n",
            "\n"
          ]
        }
      ],
      "source": [
        "#17 Write a python program to create and write a list of numbers to a file,one number per line.\n",
        "l= [1,2,5,8,4,6,8,9]\n",
        "with open(\"list_num.txt\",\"w\")as f:\n",
        "    for i in l:\n",
        "        f.write(f\"{i}\\n\")\n",
        "with open(\"list_num.txt\",\"r\") as f:\n",
        "            print(f.read())"
      ]
    },
    {
      "cell_type": "code",
      "execution_count": 24,
      "id": "6a98c047-c01a-4a9f-beec-c5a338b018c6",
      "metadata": {
        "colab": {
          "base_uri": "https://localhost:8080/"
        },
        "id": "6a98c047-c01a-4a9f-beec-c5a338b018c6",
        "outputId": "72c86530-7289-4b10-d076-20e25dc2165a"
      },
      "outputs": [
        {
          "output_type": "stream",
          "name": "stderr",
          "text": [
            "INFO , This is a test log\n"
          ]
        }
      ],
      "source": [
        "#18 How would you implement a basic logging setup that logs to a file with rotation after 1MB.\n",
        "import logging\n",
        "from logging.handlers import RotatingFileHandler\n",
        "logger = logging.getLogger(\"mylogger\")\n",
        "handler = RotatingFileHandler(\"my_log.log\", maxBytes= 1048576,\n",
        "backupCount =3)\n",
        "logger.addHandler(handler)\n",
        "logger.setLevel(logging.INFO)\n",
        "logger.info(\"This is a test log\")"
      ]
    },
    {
      "cell_type": "code",
      "execution_count": 1,
      "id": "28da4999-5a52-45b1-8f67-7edd67348882",
      "metadata": {
        "colab": {
          "base_uri": "https://localhost:8080/"
        },
        "id": "28da4999-5a52-45b1-8f67-7edd67348882",
        "outputId": "65af422d-f810-4b1f-f6b0-48a4d76dee17"
      },
      "outputs": [
        {
          "output_type": "stream",
          "name": "stdout",
          "text": [
            "Key not found: 'time'\n",
            "Index not found: list index out of range\n"
          ]
        }
      ],
      "source": [
        "#19 Write a program that handles both IndexError and KeyError using try-except block.\n",
        "d = {\"year\": 2025, \"month\": \"July\", \"Day\": \"Sunday\"}\n",
        "l = [1, 4, 7, 9]\n",
        "\n",
        "try:\n",
        "    d[\"time\"]\n",
        "except LookupError as e:\n",
        "    print(\"Key not found:\", e)\n",
        "\n",
        "try:\n",
        "    l[4]\n",
        "except LookupError as e:\n",
        "    print(\"Index not found:\", e)\n"
      ]
    },
    {
      "cell_type": "code",
      "execution_count": 3,
      "id": "F199Lf9uHQ-U",
      "metadata": {
        "colab": {
          "base_uri": "https://localhost:8080/",
          "height": 92
        },
        "id": "F199Lf9uHQ-U",
        "outputId": "dd8eb4fb-7ab2-4278-d827-180ab6d8ab68"
      },
      "outputs": [
        {
          "output_type": "display_data",
          "data": {
            "text/plain": [
              "<IPython.core.display.HTML object>"
            ],
            "text/html": [
              "\n",
              "     <input type=\"file\" id=\"files-b1a1a9a4-e22f-4a97-94a4-d4558008397f\" name=\"files[]\" multiple disabled\n",
              "        style=\"border:none\" />\n",
              "     <output id=\"result-b1a1a9a4-e22f-4a97-94a4-d4558008397f\">\n",
              "      Upload widget is only available when the cell has been executed in the\n",
              "      current browser session. Please rerun this cell to enable.\n",
              "      </output>\n",
              "      <script>// Copyright 2017 Google LLC\n",
              "//\n",
              "// Licensed under the Apache License, Version 2.0 (the \"License\");\n",
              "// you may not use this file except in compliance with the License.\n",
              "// You may obtain a copy of the License at\n",
              "//\n",
              "//      http://www.apache.org/licenses/LICENSE-2.0\n",
              "//\n",
              "// Unless required by applicable law or agreed to in writing, software\n",
              "// distributed under the License is distributed on an \"AS IS\" BASIS,\n",
              "// WITHOUT WARRANTIES OR CONDITIONS OF ANY KIND, either express or implied.\n",
              "// See the License for the specific language governing permissions and\n",
              "// limitations under the License.\n",
              "\n",
              "/**\n",
              " * @fileoverview Helpers for google.colab Python module.\n",
              " */\n",
              "(function(scope) {\n",
              "function span(text, styleAttributes = {}) {\n",
              "  const element = document.createElement('span');\n",
              "  element.textContent = text;\n",
              "  for (const key of Object.keys(styleAttributes)) {\n",
              "    element.style[key] = styleAttributes[key];\n",
              "  }\n",
              "  return element;\n",
              "}\n",
              "\n",
              "// Max number of bytes which will be uploaded at a time.\n",
              "const MAX_PAYLOAD_SIZE = 100 * 1024;\n",
              "\n",
              "function _uploadFiles(inputId, outputId) {\n",
              "  const steps = uploadFilesStep(inputId, outputId);\n",
              "  const outputElement = document.getElementById(outputId);\n",
              "  // Cache steps on the outputElement to make it available for the next call\n",
              "  // to uploadFilesContinue from Python.\n",
              "  outputElement.steps = steps;\n",
              "\n",
              "  return _uploadFilesContinue(outputId);\n",
              "}\n",
              "\n",
              "// This is roughly an async generator (not supported in the browser yet),\n",
              "// where there are multiple asynchronous steps and the Python side is going\n",
              "// to poll for completion of each step.\n",
              "// This uses a Promise to block the python side on completion of each step,\n",
              "// then passes the result of the previous step as the input to the next step.\n",
              "function _uploadFilesContinue(outputId) {\n",
              "  const outputElement = document.getElementById(outputId);\n",
              "  const steps = outputElement.steps;\n",
              "\n",
              "  const next = steps.next(outputElement.lastPromiseValue);\n",
              "  return Promise.resolve(next.value.promise).then((value) => {\n",
              "    // Cache the last promise value to make it available to the next\n",
              "    // step of the generator.\n",
              "    outputElement.lastPromiseValue = value;\n",
              "    return next.value.response;\n",
              "  });\n",
              "}\n",
              "\n",
              "/**\n",
              " * Generator function which is called between each async step of the upload\n",
              " * process.\n",
              " * @param {string} inputId Element ID of the input file picker element.\n",
              " * @param {string} outputId Element ID of the output display.\n",
              " * @return {!Iterable<!Object>} Iterable of next steps.\n",
              " */\n",
              "function* uploadFilesStep(inputId, outputId) {\n",
              "  const inputElement = document.getElementById(inputId);\n",
              "  inputElement.disabled = false;\n",
              "\n",
              "  const outputElement = document.getElementById(outputId);\n",
              "  outputElement.innerHTML = '';\n",
              "\n",
              "  const pickedPromise = new Promise((resolve) => {\n",
              "    inputElement.addEventListener('change', (e) => {\n",
              "      resolve(e.target.files);\n",
              "    });\n",
              "  });\n",
              "\n",
              "  const cancel = document.createElement('button');\n",
              "  inputElement.parentElement.appendChild(cancel);\n",
              "  cancel.textContent = 'Cancel upload';\n",
              "  const cancelPromise = new Promise((resolve) => {\n",
              "    cancel.onclick = () => {\n",
              "      resolve(null);\n",
              "    };\n",
              "  });\n",
              "\n",
              "  // Wait for the user to pick the files.\n",
              "  const files = yield {\n",
              "    promise: Promise.race([pickedPromise, cancelPromise]),\n",
              "    response: {\n",
              "      action: 'starting',\n",
              "    }\n",
              "  };\n",
              "\n",
              "  cancel.remove();\n",
              "\n",
              "  // Disable the input element since further picks are not allowed.\n",
              "  inputElement.disabled = true;\n",
              "\n",
              "  if (!files) {\n",
              "    return {\n",
              "      response: {\n",
              "        action: 'complete',\n",
              "      }\n",
              "    };\n",
              "  }\n",
              "\n",
              "  for (const file of files) {\n",
              "    const li = document.createElement('li');\n",
              "    li.append(span(file.name, {fontWeight: 'bold'}));\n",
              "    li.append(span(\n",
              "        `(${file.type || 'n/a'}) - ${file.size} bytes, ` +\n",
              "        `last modified: ${\n",
              "            file.lastModifiedDate ? file.lastModifiedDate.toLocaleDateString() :\n",
              "                                    'n/a'} - `));\n",
              "    const percent = span('0% done');\n",
              "    li.appendChild(percent);\n",
              "\n",
              "    outputElement.appendChild(li);\n",
              "\n",
              "    const fileDataPromise = new Promise((resolve) => {\n",
              "      const reader = new FileReader();\n",
              "      reader.onload = (e) => {\n",
              "        resolve(e.target.result);\n",
              "      };\n",
              "      reader.readAsArrayBuffer(file);\n",
              "    });\n",
              "    // Wait for the data to be ready.\n",
              "    let fileData = yield {\n",
              "      promise: fileDataPromise,\n",
              "      response: {\n",
              "        action: 'continue',\n",
              "      }\n",
              "    };\n",
              "\n",
              "    // Use a chunked sending to avoid message size limits. See b/62115660.\n",
              "    let position = 0;\n",
              "    do {\n",
              "      const length = Math.min(fileData.byteLength - position, MAX_PAYLOAD_SIZE);\n",
              "      const chunk = new Uint8Array(fileData, position, length);\n",
              "      position += length;\n",
              "\n",
              "      const base64 = btoa(String.fromCharCode.apply(null, chunk));\n",
              "      yield {\n",
              "        response: {\n",
              "          action: 'append',\n",
              "          file: file.name,\n",
              "          data: base64,\n",
              "        },\n",
              "      };\n",
              "\n",
              "      let percentDone = fileData.byteLength === 0 ?\n",
              "          100 :\n",
              "          Math.round((position / fileData.byteLength) * 100);\n",
              "      percent.textContent = `${percentDone}% done`;\n",
              "\n",
              "    } while (position < fileData.byteLength);\n",
              "  }\n",
              "\n",
              "  // All done.\n",
              "  yield {\n",
              "    response: {\n",
              "      action: 'complete',\n",
              "    }\n",
              "  };\n",
              "}\n",
              "\n",
              "scope.google = scope.google || {};\n",
              "scope.google.colab = scope.google.colab || {};\n",
              "scope.google.colab._files = {\n",
              "  _uploadFiles,\n",
              "  _uploadFilesContinue,\n",
              "};\n",
              "})(self);\n",
              "</script> "
            ]
          },
          "metadata": {}
        },
        {
          "output_type": "stream",
          "name": "stdout",
          "text": [
            "Saving sample.txt to sample.txt\n",
            "Hello World!\n"
          ]
        }
      ],
      "source": [
        "#20 How do you open a file and read its contents using a context manager in python ?\n",
        "from google.colab import files\n",
        "uploaded = files.upload()\n",
        "with open(\"sample.txt\", \"r\") as f:\n",
        "    print(f.read())"
      ]
    },
    {
      "cell_type": "code",
      "execution_count": 5,
      "id": "6eSW4jP7H9zt",
      "metadata": {
        "id": "6eSW4jP7H9zt",
        "colab": {
          "base_uri": "https://localhost:8080/"
        },
        "outputId": "1498e114-c6e3-4c8d-a740-ce04d99ebda2"
      },
      "outputs": [
        {
          "output_type": "stream",
          "name": "stdout",
          "text": [
            "Enter word to be searched: root\n",
            "🔍 Occurrences of the word 'root': 1\n"
          ]
        }
      ],
      "source": [
        "#21 Write a python program that reads a file and prints the number of occurences of a specific word.\n",
        "with open(\"word_file.txt\", \"w\") as f:\n",
        "    f.write(\"People have a hard time letting go of their suffering\\n\")\n",
        "    f.write(\"There is an important distinction when speaking about suffering\\n\")\n",
        "    f.write(\"The root cause of all the suffering and how to end it\\n\")\n",
        "\n",
        "word = input(\"Enter word to be searched: \").lower()\n",
        "\n",
        "count = 0\n",
        "\n",
        "with open(\"word_file.txt\", \"r\") as file:\n",
        "    for line in file:\n",
        "        words = line.lower().split()\n",
        "        for w in words:\n",
        "            w = w.strip(\",.?!;:'\\\"\")\n",
        "            if w == word:\n",
        "                count += 1\n",
        "\n",
        "print(f\"🔍 Occurrences of the word '{word}': {count}\")"
      ]
    },
    {
      "cell_type": "code",
      "execution_count": 7,
      "id": "994c788b-ebce-4eae-ab0a-e8f0c5608e5e",
      "metadata": {
        "colab": {
          "base_uri": "https://localhost:8080/"
        },
        "id": "994c788b-ebce-4eae-ab0a-e8f0c5608e5e",
        "outputId": "7382ebdc-a242-4749-eafe-bb47942fc9ff"
      },
      "outputs": [
        {
          "output_type": "stream",
          "name": "stdout",
          "text": [
            "File content:\n",
            " Hello World!\n"
          ]
        }
      ],
      "source": [
        "#22 How can you check if a file is empty before attempting to read its contents ?\n",
        "with open(\"sample.txt\", \"r\") as file:\n",
        "    content = file.read()\n",
        "    if content.strip() == \"\":\n",
        "        print(\"The file is empty.\")\n",
        "    else:\n",
        "        print(\"File content:\\n\", content)\n"
      ]
    },
    {
      "cell_type": "code",
      "execution_count": 8,
      "id": "0a421d2f-7d36-4059-9cca-a9be7b8c056b",
      "metadata": {
        "colab": {
          "base_uri": "https://localhost:8080/"
        },
        "id": "0a421d2f-7d36-4059-9cca-a9be7b8c056b",
        "outputId": "c3475f83-daf4-470a-b050-1c3bf22520c6"
      },
      "outputs": [
        {
          "output_type": "stream",
          "name": "stdout",
          "text": [
            "Enter numerator: 6\n",
            "Enter denominator: 2\n",
            "Result: 3.0\n"
          ]
        }
      ],
      "source": [
        "#23 Write a python program that writes to a log file  when an error occurs during the handling.\n",
        "import logging\n",
        "\n",
        "# Create a logger object\n",
        "logger = logging.getLogger(\"error_logger\")\n",
        "logger.setLevel(logging.ERROR)\n",
        "\n",
        "if not logger.handlers:\n",
        "    file_handler = logging.FileHandler(\"error_log.txt\")\n",
        "    console_handler = logging.StreamHandler()\n",
        "\n",
        "    formatter = logging.Formatter('%(levelname)s: %(message)s')\n",
        "    file_handler.setFormatter(formatter)\n",
        "    console_handler.setFormatter(formatter)\n",
        "\n",
        "    logger.addHandler(file_handler)\n",
        "    logger.addHandler(console_handler)\n",
        "\n",
        "try:\n",
        "    a = int(input(\"Enter numerator: \"))\n",
        "    b = int(input(\"Enter denominator: \"))\n",
        "    result = a / b\n",
        "    print(\"Result:\", result)\n",
        "\n",
        "except ZeroDivisionError as e:\n",
        "    logger.error(\"Cannot divide by zero: %s\", e)\n",
        "\n",
        "except ValueError as e:\n",
        "    logger.error(\"Invalid input: %s\", e)\n",
        "\n",
        "except Exception as e:\n",
        "    logger.error(\"Unexpected error: %s\", e)\n"
      ]
    }
  ],
  "metadata": {
    "colab": {
      "provenance": []
    },
    "kernelspec": {
      "display_name": "Python 3 (ipykernel)",
      "language": "python",
      "name": "python3"
    },
    "language_info": {
      "codemirror_mode": {
        "name": "ipython",
        "version": 3
      },
      "file_extension": ".py",
      "mimetype": "text/x-python",
      "name": "python",
      "nbconvert_exporter": "python",
      "pygments_lexer": "ipython3",
      "version": "3.13.5"
    }
  },
  "nbformat": 4,
  "nbformat_minor": 5
}